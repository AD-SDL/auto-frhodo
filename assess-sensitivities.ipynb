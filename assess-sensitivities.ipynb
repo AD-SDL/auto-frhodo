{
 "cells": [
  {
   "cell_type": "markdown",
   "id": "ff311ef3-ef40-43ea-bc9a-c6af76edfcc4",
   "metadata": {},
   "source": [
    "# Assess Sensitivities\n",
    "See which parameters in a mechanism have the largest impact on the quality of fit to experimental data."
   ]
  },
  {
   "cell_type": "code",
   "execution_count": 1,
   "id": "a550c8de-6cac-4cd0-9cbf-22e832c0172a",
   "metadata": {
    "execution": {
     "iopub.execute_input": "2022-08-25T20:07:15.603175Z",
     "iopub.status.busy": "2022-08-25T20:07:15.603013Z",
     "iopub.status.idle": "2022-08-25T20:07:16.518700Z",
     "shell.execute_reply": "2022-08-25T20:07:16.518186Z"
    }
   },
   "outputs": [],
   "source": [
    "from frhodo.api import FrhodoDriver\n",
    "from typing import List\n",
    "from scipy import stats as ss\n",
    "from scipy.interpolate import interp1d\n",
    "from pathlib import Path\n",
    "from tqdm import tqdm\n",
    "import pandas as pd\n",
    "import numpy as np"
   ]
  },
  {
   "cell_type": "markdown",
   "id": "8ba0daed-4b6c-45e3-9526-8b64ef2d5811",
   "metadata": {},
   "source": [
    "Configuration"
   ]
  },
  {
   "cell_type": "code",
   "execution_count": 2,
   "id": "ddba1a58-8d0b-4a4b-aea4-93b970cbaa9c",
   "metadata": {
    "execution": {
     "iopub.execute_input": "2022-08-25T20:07:16.521837Z",
     "iopub.status.busy": "2022-08-25T20:07:16.521531Z",
     "iopub.status.idle": "2022-08-25T20:07:16.523980Z",
     "shell.execute_reply": "2022-08-25T20:07:16.523626Z"
    }
   },
   "outputs": [],
   "source": [
    "data_path = Path('sdl-examples/diacetyl/')"
   ]
  },
  {
   "cell_type": "markdown",
   "id": "8d0ab659-365a-420f-8e90-d92c7a003172",
   "metadata": {},
   "source": [
    "## Load in the Mechanism and Data\n",
    "Create an instance of Frhodo from the driver and then load in the data for our diacetyl experiments"
   ]
  },
  {
   "cell_type": "code",
   "execution_count": 3,
   "id": "b36eb05f-871c-415b-b562-644ed61910e6",
   "metadata": {
    "execution": {
     "iopub.execute_input": "2022-08-25T20:07:16.525777Z",
     "iopub.status.busy": "2022-08-25T20:07:16.525671Z",
     "iopub.status.idle": "2022-08-25T20:07:17.530885Z",
     "shell.execute_reply": "2022-08-25T20:07:17.530352Z"
    }
   },
   "outputs": [
    {
     "name": "stderr",
     "output_type": "stream",
     "text": [
      "This plugin does not support propagateSizeHints()\n",
      "This plugin does not support propagateSizeHints()\n"
     ]
    }
   ],
   "source": [
    "driver = FrhodoDriver.create_driver(headless=True)"
   ]
  },
  {
   "cell_type": "markdown",
   "id": "97746e5c-bf1a-49d0-b62b-cd3c5c9d03d7",
   "metadata": {},
   "source": [
    "Load in the data and ensure we set "
   ]
  },
  {
   "cell_type": "code",
   "execution_count": 4,
   "id": "fdc45ae0-0369-423d-8092-32bab6a7ffd7",
   "metadata": {
    "execution": {
     "iopub.execute_input": "2022-08-25T20:07:17.533314Z",
     "iopub.status.busy": "2022-08-25T20:07:17.532997Z",
     "iopub.status.idle": "2022-08-25T20:07:18.078751Z",
     "shell.execute_reply": "2022-08-25T20:07:18.078283Z"
    }
   },
   "outputs": [],
   "source": [
    "driver.load_files(\n",
    "    data_path / 'experiment' / '2%-C4H6O2-in-98%-Kr-Oct-2016',\n",
    "    data_path / 'mechanism', \n",
    "    data_path / 'simulation',\n",
    "    aliases={\n",
    "        'C4H6O2': 'CH3COCOCH3',\n",
    "        'Krypton': 'Kr',\n",
    "        '2,3-butanedione': 'CH3COCOCH3'\n",
    "    }\n",
    ")"
   ]
  },
  {
   "cell_type": "markdown",
   "id": "a72556bc-4d4b-4dd6-8306-b838c1b26f96",
   "metadata": {},
   "source": [
    "Get initial simulation values"
   ]
  },
  {
   "cell_type": "code",
   "execution_count": 5,
   "id": "10433b40-e7b0-4f7b-ba5c-88e349a0b6d1",
   "metadata": {
    "execution": {
     "iopub.execute_input": "2022-08-25T20:07:18.080976Z",
     "iopub.status.busy": "2022-08-25T20:07:18.080767Z",
     "iopub.status.idle": "2022-08-25T20:07:21.481953Z",
     "shell.execute_reply": "2022-08-25T20:07:21.481443Z"
    }
   },
   "outputs": [
    {
     "name": "stdout",
     "output_type": "stream",
     "text": [
      "CPU times: user 3.37 s, sys: 30.1 ms, total: 3.4 s\n",
      "Wall time: 3.4 s\n"
     ]
    }
   ],
   "source": [
    "%%time\n",
    "init_simulation = driver.run_simulations()"
   ]
  },
  {
   "cell_type": "markdown",
   "id": "87a5f8bc-4dc5-4135-9d09-f77e75e7c84d",
   "metadata": {},
   "source": [
    "Determine which ones are successful"
   ]
  },
  {
   "cell_type": "code",
   "execution_count": 6,
   "id": "888c7a7e-d8c9-435f-8344-c66ee8c816ac",
   "metadata": {
    "execution": {
     "iopub.execute_input": "2022-08-25T20:07:21.483893Z",
     "iopub.status.busy": "2022-08-25T20:07:21.483725Z",
     "iopub.status.idle": "2022-08-25T20:07:21.486385Z",
     "shell.execute_reply": "2022-08-25T20:07:21.486014Z"
    }
   },
   "outputs": [
    {
     "name": "stdout",
     "output_type": "stream",
     "text": [
      "10 / 12 shocks can be simulated.\n"
     ]
    }
   ],
   "source": [
    "was_success = [x.shape[0] > 10 for x in init_simulation]\n",
    "print(f'{sum(was_success)} / {len(init_simulation)} shocks can be simulated.')"
   ]
  },
  {
   "cell_type": "markdown",
   "id": "cb7f2f98-a3b2-4535-ae59-8e7c3b3ff865",
   "metadata": {},
   "source": [
    "Load in the experimental data and the weights associated with each point"
   ]
  },
  {
   "cell_type": "code",
   "execution_count": 7,
   "id": "640d27c9-8f72-4bf2-bbdd-badaaaedb713",
   "metadata": {
    "execution": {
     "iopub.execute_input": "2022-08-25T20:07:21.487871Z",
     "iopub.status.busy": "2022-08-25T20:07:21.487759Z",
     "iopub.status.idle": "2022-08-25T20:07:23.213009Z",
     "shell.execute_reply": "2022-08-25T20:07:23.212433Z"
    }
   },
   "outputs": [
    {
     "name": "stdout",
     "output_type": "stream",
     "text": [
      "CPU times: user 1.69 s, sys: 29.5 ms, total: 1.72 s\n",
      "Wall time: 1.72 s\n"
     ]
    }
   ],
   "source": [
    "%%time\n",
    "experiment_data, weights = driver.get_observables()"
   ]
  },
  {
   "cell_type": "markdown",
   "id": "58860f5c-e7ea-4733-832a-48222574f15c",
   "metadata": {},
   "source": [
    "## Measure performance of initial mechanism\n",
    "Set up the loss function first then evaluate it on the current data. We will use the log-probability of observing the experimental data given the simulation results, following work by [Paulson et al.](https://www.sciencedirect.com/science/article/abs/pii/S0020722518314721)."
   ]
  },
  {
   "cell_type": "code",
   "execution_count": 8,
   "id": "cb68301b-5491-41ab-bebb-6c88e72a4851",
   "metadata": {
    "execution": {
     "iopub.execute_input": "2022-08-25T20:07:23.215097Z",
     "iopub.status.busy": "2022-08-25T20:07:23.214948Z",
     "iopub.status.idle": "2022-08-25T20:07:23.218790Z",
     "shell.execute_reply": "2022-08-25T20:07:23.218342Z"
    }
   },
   "outputs": [],
   "source": [
    "def loss_function(simulation: np.ndarray, experiment: np.ndarray, weights: np.ndarray, error_bar: float = 1e-5) -> float:\n",
    "    \"\"\"Compaute the loss for a single experiment\n",
    "    \n",
    "    Args:\n",
    "        simulated: Simulated observable\n",
    "        experiment: Actual observable\n",
    "        weights: Weights applied to each measurement in `experiment`\n",
    "        error_bar: Estimated size of the uncertainty in the weight\n",
    "    Returns:\n",
    "        Log probability of observing the experimental data\n",
    "    \"\"\"\n",
    "    # Truncate off portions that are weighted too low\n",
    "    mask = weights > 1e-6\n",
    "    experiment = experiment[mask, :]\n",
    "    \n",
    "    # Compute the simulated value at each point\n",
    "    sim_func = interp1d(simulation[:, 0], simulation[:, 1], kind='cubic')\n",
    "    predicted = sim_func(experiment[:, 0])\n",
    "    \n",
    "    # Get the difference\n",
    "    difference = experiment[:, 1] - predicted\n",
    "    \n",
    "    # Compute the width of the uncertainty window\n",
    "    std = error_bar / weights[mask]\n",
    "    \n",
    "    return ss.t(loc=0, scale=std, df=2.1).logpdf(difference).sum()"
   ]
  },
  {
   "cell_type": "code",
   "execution_count": 9,
   "id": "f71c6f05-1195-40c3-b4d8-2273350071c5",
   "metadata": {
    "execution": {
     "iopub.execute_input": "2022-08-25T20:07:23.220378Z",
     "iopub.status.busy": "2022-08-25T20:07:23.220234Z",
     "iopub.status.idle": "2022-08-25T20:07:23.223058Z",
     "shell.execute_reply": "2022-08-25T20:07:23.222688Z"
    }
   },
   "outputs": [],
   "source": [
    "def total_loss(simulations: List[np.ndarray], \n",
    "               experiments: List[np.ndarray],\n",
    "               weights: List[np.ndarray],\n",
    "               was_success: List[np.ndarray],\n",
    "               error_bar: float) -> float:\n",
    "    \"\"\"Compute the loss for all available experiments\n",
    "    \n",
    "    Args:\n",
    "        simulations: List of simulated observables for differnet shock experiments\n",
    "        experiments: List of measured observables\n",
    "        weights: List of weights of each experiment\n",
    "        was_success: Whether to use each \n",
    "    Returns:\n",
    "        Log probability of the observed simulations\"\"\"\n",
    "    \n",
    "    log_probs = [\n",
    "        loss_function(s, e, w, error_bar) \n",
    "        for s, e, w, m in \n",
    "        zip(simulations, experiments, weights, was_success)\n",
    "        if m\n",
    "    ]\n",
    "    return np.sum(log_probs)"
   ]
  },
  {
   "cell_type": "markdown",
   "id": "6ae93e48-00a0-4adc-add9-fc24d207ab34",
   "metadata": {},
   "source": [
    "Print out a number that is worthless without context"
   ]
  },
  {
   "cell_type": "code",
   "execution_count": 10,
   "id": "e0376b9f-484d-4ff9-99fb-4b34e35836f6",
   "metadata": {
    "execution": {
     "iopub.execute_input": "2022-08-25T20:07:23.224539Z",
     "iopub.status.busy": "2022-08-25T20:07:23.224400Z",
     "iopub.status.idle": "2022-08-25T20:07:23.235658Z",
     "shell.execute_reply": "2022-08-25T20:07:23.235335Z"
    }
   },
   "outputs": [
    {
     "data": {
      "text/plain": [
       "14032.630413734623"
      ]
     },
     "execution_count": 10,
     "metadata": {},
     "output_type": "execute_result"
    }
   ],
   "source": [
    "init_loss = total_loss(\n",
    "    init_simulation,\n",
    "    experiment_data,\n",
    "    weights,\n",
    "    was_success,\n",
    "    1e-4\n",
    ")\n",
    "init_loss"
   ]
  },
  {
   "cell_type": "markdown",
   "id": "8bb71777-b91c-43ef-a96a-f8e67b441fb1",
   "metadata": {},
   "source": [
    "Ok! We can now quantify performance. Let's do something with that"
   ]
  },
  {
   "cell_type": "markdown",
   "id": "68f9d573-d062-4803-9302-a0d56d865c3d",
   "metadata": {},
   "source": [
    "## Test the sensitivity of different parameters\n",
    "We'll vary a few parameters by 10% and see how much that affects the output"
   ]
  },
  {
   "cell_type": "markdown",
   "id": "eb1e030b-3580-42e5-9278-7feb2c6a0344",
   "metadata": {},
   "source": [
    "### Get the relevant parameters\n",
    "Our Frhodo driver only supports Elementary, FallOff, and Three-body Reactions."
   ]
  },
  {
   "cell_type": "code",
   "execution_count": 11,
   "id": "03fd4896-796f-4f7f-b2e5-36c7fa9f7723",
   "metadata": {
    "execution": {
     "iopub.execute_input": "2022-08-25T20:07:23.237332Z",
     "iopub.status.busy": "2022-08-25T20:07:23.237142Z",
     "iopub.status.idle": "2022-08-25T20:07:23.239756Z",
     "shell.execute_reply": "2022-08-25T20:07:23.239430Z"
    }
   },
   "outputs": [
    {
     "name": "stdout",
     "output_type": "stream",
     "text": [
      "Modifying 34/36 reactions\n"
     ]
    }
   ],
   "source": [
    "reaction_type = [\n",
    "    type(x).__name__\n",
    "    for x in  driver.window.mech.gas.reactions()\n",
    "]\n",
    "to_modify = [i for i, x in enumerate(reaction_type) if x in ['ElementaryReaction', 'FalloffReaction', 'ThreeBodyReaction']]\n",
    "print(f'Modifying {len(to_modify)}/{len(reaction_type)} reactions')"
   ]
  },
  {
   "cell_type": "markdown",
   "id": "5d33767b-48e6-43d3-a7a0-e633947fd34f",
   "metadata": {},
   "source": [
    "Get all parameters for these reactions. We need the index of the reaction, the index of the pressure being assessed (should be 0, as all of these assume "
   ]
  },
  {
   "cell_type": "code",
   "execution_count": 12,
   "id": "7b3f976b-48f1-47b3-846d-bf09d67c3d80",
   "metadata": {
    "execution": {
     "iopub.execute_input": "2022-08-25T20:07:23.241351Z",
     "iopub.status.busy": "2022-08-25T20:07:23.241122Z",
     "iopub.status.idle": "2022-08-25T20:07:23.243323Z",
     "shell.execute_reply": "2022-08-25T20:07:23.243024Z"
    }
   },
   "outputs": [
    {
     "name": "stdout",
     "output_type": "stream",
     "text": [
      "Found 105 parameters to test\n"
     ]
    }
   ],
   "source": [
    "parameters = driver.get_fittable_parameters(to_modify)\n",
    "print(f'Found {len(parameters)} parameters to test')"
   ]
  },
  {
   "cell_type": "markdown",
   "id": "ad9d64f5-f37b-4dca-a761-e6531a420c4f",
   "metadata": {},
   "source": [
    "Loop over each parameter and evaluate the effect of changing it slightly"
   ]
  },
  {
   "cell_type": "code",
   "execution_count": 13,
   "id": "3dbccc4d-9cac-4039-b39f-b515dfc2e2aa",
   "metadata": {
    "execution": {
     "iopub.execute_input": "2022-08-25T20:07:23.244775Z",
     "iopub.status.busy": "2022-08-25T20:07:23.244602Z",
     "iopub.status.idle": "2022-08-25T20:10:22.982648Z",
     "shell.execute_reply": "2022-08-25T20:10:22.982216Z"
    }
   },
   "outputs": [
    {
     "name": "stderr",
     "output_type": "stream",
     "text": [
      "100%|███████████████████████████████████████████████████████████████████████████████████████████████████████████████████████████████████████████████████████████████████████| 105/105 [02:59<00:00,  1.71s/it]\n"
     ]
    }
   ],
   "source": [
    "sensitivity = []\n",
    "for parameter in tqdm(parameters):\n",
    "    # Get the current value\n",
    "    orig_value = driver.get_coefficients([parameter])[0]\n",
    "    \n",
    "    # Adjust it slightly and re-run simulations\n",
    "    new_value = orig_value * 1.05\n",
    "    driver.change_coefficient({parameter: new_value})\n",
    "    new_simulations = driver.run_simulations()\n",
    "    \n",
    "    # Get the new loss value\n",
    "    new_loss = total_loss(\n",
    "        new_simulations,\n",
    "        experiment_data,\n",
    "        weights,\n",
    "        was_success,\n",
    "        1e-4\n",
    "    )\n",
    "    \n",
    "    # Change it back\n",
    "    driver.change_coefficient({parameter: orig_value})\n",
    "\n",
    "    # Store the parameters and the change\n",
    "    sensitivity.append(parameter + (new_loss - init_loss,))"
   ]
  },
  {
   "cell_type": "markdown",
   "id": "afdb9e3a-57ef-4cc2-8df8-f0446f18d9fe",
   "metadata": {},
   "source": [
    "Compile into a dataframe"
   ]
  },
  {
   "cell_type": "code",
   "execution_count": 14,
   "id": "f0537586-add0-420f-8ca9-3b37412b1a82",
   "metadata": {
    "execution": {
     "iopub.execute_input": "2022-08-25T20:10:22.984525Z",
     "iopub.status.busy": "2022-08-25T20:10:22.984334Z",
     "iopub.status.idle": "2022-08-25T20:10:22.987222Z",
     "shell.execute_reply": "2022-08-25T20:10:22.986892Z"
    }
   },
   "outputs": [],
   "source": [
    "sensitivity = pd.DataFrame(sensitivity, columns=('reaction_id', 'pressure_id', 'coeff_name', 'sensitivity'))"
   ]
  },
  {
   "cell_type": "markdown",
   "id": "72acffa6-6aa6-4460-8367-441d590e6871",
   "metadata": {},
   "source": [
    "Add in the reaction name and the magnitude of the sensitivity"
   ]
  },
  {
   "cell_type": "code",
   "execution_count": 15,
   "id": "7a100c44-9c5c-4846-8593-f326b8fb8c74",
   "metadata": {
    "execution": {
     "iopub.execute_input": "2022-08-25T20:10:22.988788Z",
     "iopub.status.busy": "2022-08-25T20:10:22.988607Z",
     "iopub.status.idle": "2022-08-25T20:10:22.991848Z",
     "shell.execute_reply": "2022-08-25T20:10:22.991439Z"
    }
   },
   "outputs": [],
   "source": [
    "sensitivity['reaction'] = sensitivity['reaction_id'].apply(lambda x: str(driver.window.mech.gas.reaction(x)))"
   ]
  },
  {
   "cell_type": "code",
   "execution_count": 16,
   "id": "aa6bcee9-adde-4445-af30-1ad70a5f5248",
   "metadata": {
    "execution": {
     "iopub.execute_input": "2022-08-25T20:10:22.993350Z",
     "iopub.status.busy": "2022-08-25T20:10:22.993195Z",
     "iopub.status.idle": "2022-08-25T20:10:22.995427Z",
     "shell.execute_reply": "2022-08-25T20:10:22.995051Z"
    }
   },
   "outputs": [],
   "source": [
    "sensitivity['sensitivity_mag'] = sensitivity['sensitivity'].abs()"
   ]
  },
  {
   "cell_type": "markdown",
   "id": "945ff4fc-16dd-4c2f-958e-fba3bb019c5e",
   "metadata": {},
   "source": [
    "Print out the most influential parameters"
   ]
  },
  {
   "cell_type": "code",
   "execution_count": 17,
   "id": "3629bc4e-6f43-42a0-93fb-0b7cb0784408",
   "metadata": {
    "execution": {
     "iopub.execute_input": "2022-08-25T20:10:22.996965Z",
     "iopub.status.busy": "2022-08-25T20:10:22.996830Z",
     "iopub.status.idle": "2022-08-25T20:10:23.002831Z",
     "shell.execute_reply": "2022-08-25T20:10:23.002518Z"
    }
   },
   "outputs": [
    {
     "data": {
      "text/html": [
       "<div>\n",
       "<style scoped>\n",
       "    .dataframe tbody tr th:only-of-type {\n",
       "        vertical-align: middle;\n",
       "    }\n",
       "\n",
       "    .dataframe tbody tr th {\n",
       "        vertical-align: top;\n",
       "    }\n",
       "\n",
       "    .dataframe thead th {\n",
       "        text-align: right;\n",
       "    }\n",
       "</style>\n",
       "<table border=\"1\" class=\"dataframe\">\n",
       "  <thead>\n",
       "    <tr style=\"text-align: right;\">\n",
       "      <th></th>\n",
       "      <th>reaction</th>\n",
       "      <th>pressure_id</th>\n",
       "      <th>coeff_name</th>\n",
       "      <th>sensitivity</th>\n",
       "    </tr>\n",
       "  </thead>\n",
       "  <tbody>\n",
       "    <tr>\n",
       "      <th>89</th>\n",
       "      <td>CH3 + CH3COCOCH3 &lt;=&gt; CH2CO + CH3CO + CH4</td>\n",
       "      <td>0</td>\n",
       "      <td>temperature_exponent</td>\n",
       "      <td>-0.425496</td>\n",
       "    </tr>\n",
       "    <tr>\n",
       "      <th>0</th>\n",
       "      <td>C2H6 (+M) &lt;=&gt; 2 CH3 (+M)</td>\n",
       "      <td>low_rate</td>\n",
       "      <td>activation_energy</td>\n",
       "      <td>0.408620</td>\n",
       "    </tr>\n",
       "    <tr>\n",
       "      <th>3</th>\n",
       "      <td>C2H6 (+M) &lt;=&gt; 2 CH3 (+M)</td>\n",
       "      <td>high_rate</td>\n",
       "      <td>activation_energy</td>\n",
       "      <td>0.370785</td>\n",
       "    </tr>\n",
       "    <tr>\n",
       "      <th>5</th>\n",
       "      <td>C2H6 (+M) &lt;=&gt; 2 CH3 (+M)</td>\n",
       "      <td>high_rate</td>\n",
       "      <td>temperature_exponent</td>\n",
       "      <td>0.313770</td>\n",
       "    </tr>\n",
       "    <tr>\n",
       "      <th>2</th>\n",
       "      <td>C2H6 (+M) &lt;=&gt; 2 CH3 (+M)</td>\n",
       "      <td>low_rate</td>\n",
       "      <td>temperature_exponent</td>\n",
       "      <td>0.178253</td>\n",
       "    </tr>\n",
       "  </tbody>\n",
       "</table>\n",
       "</div>"
      ],
      "text/plain": [
       "                                    reaction pressure_id  \\\n",
       "89  CH3 + CH3COCOCH3 <=> CH2CO + CH3CO + CH4           0   \n",
       "0                   C2H6 (+M) <=> 2 CH3 (+M)    low_rate   \n",
       "3                   C2H6 (+M) <=> 2 CH3 (+M)   high_rate   \n",
       "5                   C2H6 (+M) <=> 2 CH3 (+M)   high_rate   \n",
       "2                   C2H6 (+M) <=> 2 CH3 (+M)    low_rate   \n",
       "\n",
       "              coeff_name  sensitivity  \n",
       "89  temperature_exponent    -0.425496  \n",
       "0      activation_energy     0.408620  \n",
       "3      activation_energy     0.370785  \n",
       "5   temperature_exponent     0.313770  \n",
       "2   temperature_exponent     0.178253  "
      ]
     },
     "execution_count": 17,
     "metadata": {},
     "output_type": "execute_result"
    }
   ],
   "source": [
    "sensitivity.sort_values('sensitivity_mag', ascending=False).head()[['reaction', 'pressure_id', 'coeff_name', 'sensitivity']]"
   ]
  },
  {
   "cell_type": "markdown",
   "id": "e60defb0-15ef-45e7-89e9-9d965b11569b",
   "metadata": {},
   "source": [
    "Print out the least"
   ]
  },
  {
   "cell_type": "code",
   "execution_count": 18,
   "id": "10265a01-fe11-441b-a5dd-f0b3e91a2af1",
   "metadata": {
    "execution": {
     "iopub.execute_input": "2022-08-25T20:10:23.004289Z",
     "iopub.status.busy": "2022-08-25T20:10:23.004137Z",
     "iopub.status.idle": "2022-08-25T20:10:23.009084Z",
     "shell.execute_reply": "2022-08-25T20:10:23.008761Z"
    }
   },
   "outputs": [
    {
     "data": {
      "text/html": [
       "<div>\n",
       "<style scoped>\n",
       "    .dataframe tbody tr th:only-of-type {\n",
       "        vertical-align: middle;\n",
       "    }\n",
       "\n",
       "    .dataframe tbody tr th {\n",
       "        vertical-align: top;\n",
       "    }\n",
       "\n",
       "    .dataframe thead th {\n",
       "        text-align: right;\n",
       "    }\n",
       "</style>\n",
       "<table border=\"1\" class=\"dataframe\">\n",
       "  <thead>\n",
       "    <tr style=\"text-align: right;\">\n",
       "      <th></th>\n",
       "      <th>reaction</th>\n",
       "      <th>pressure_id</th>\n",
       "      <th>coeff_name</th>\n",
       "      <th>sensitivity</th>\n",
       "    </tr>\n",
       "  </thead>\n",
       "  <tbody>\n",
       "    <tr>\n",
       "      <th>68</th>\n",
       "      <td>CH2(S) + CH3 &lt;=&gt; C2H4 + H</td>\n",
       "      <td>0</td>\n",
       "      <td>temperature_exponent</td>\n",
       "      <td>0.0</td>\n",
       "    </tr>\n",
       "    <tr>\n",
       "      <th>71</th>\n",
       "      <td>CH2(S) + M &lt;=&gt; CH2(T) + M</td>\n",
       "      <td>0</td>\n",
       "      <td>temperature_exponent</td>\n",
       "      <td>0.0</td>\n",
       "    </tr>\n",
       "    <tr>\n",
       "      <th>74</th>\n",
       "      <td>C2H6 + CH2(S) &lt;=&gt; C2H5 + CH3</td>\n",
       "      <td>0</td>\n",
       "      <td>temperature_exponent</td>\n",
       "      <td>0.0</td>\n",
       "    </tr>\n",
       "    <tr>\n",
       "      <th>75</th>\n",
       "      <td>2 CH2(T) &lt;=&gt; C2H2 + H2</td>\n",
       "      <td>0</td>\n",
       "      <td>activation_energy</td>\n",
       "      <td>0.0</td>\n",
       "    </tr>\n",
       "    <tr>\n",
       "      <th>104</th>\n",
       "      <td>CH3 + CH3CO &lt;=&gt; C2H6 + CO</td>\n",
       "      <td>0</td>\n",
       "      <td>temperature_exponent</td>\n",
       "      <td>0.0</td>\n",
       "    </tr>\n",
       "  </tbody>\n",
       "</table>\n",
       "</div>"
      ],
      "text/plain": [
       "                         reaction pressure_id            coeff_name  \\\n",
       "68      CH2(S) + CH3 <=> C2H4 + H           0  temperature_exponent   \n",
       "71      CH2(S) + M <=> CH2(T) + M           0  temperature_exponent   \n",
       "74   C2H6 + CH2(S) <=> C2H5 + CH3           0  temperature_exponent   \n",
       "75         2 CH2(T) <=> C2H2 + H2           0     activation_energy   \n",
       "104     CH3 + CH3CO <=> C2H6 + CO           0  temperature_exponent   \n",
       "\n",
       "     sensitivity  \n",
       "68           0.0  \n",
       "71           0.0  \n",
       "74           0.0  \n",
       "75           0.0  \n",
       "104          0.0  "
      ]
     },
     "execution_count": 18,
     "metadata": {},
     "output_type": "execute_result"
    }
   ],
   "source": [
    "sensitivity.sort_values('sensitivity_mag', ascending=False).tail()[['reaction', 'pressure_id', 'coeff_name', 'sensitivity']]"
   ]
  },
  {
   "cell_type": "code",
   "execution_count": null,
   "id": "9b465adb-b150-41e4-a6b3-6f80d25c75c7",
   "metadata": {},
   "outputs": [],
   "source": []
  }
 ],
 "metadata": {
  "kernelspec": {
   "display_name": "Python 3 (ipykernel)",
   "language": "python",
   "name": "python3"
  },
  "language_info": {
   "codemirror_mode": {
    "name": "ipython",
    "version": 3
   },
   "file_extension": ".py",
   "mimetype": "text/x-python",
   "name": "python",
   "nbconvert_exporter": "python",
   "pygments_lexer": "ipython3",
   "version": "3.9.13"
  }
 },
 "nbformat": 4,
 "nbformat_minor": 5
}
