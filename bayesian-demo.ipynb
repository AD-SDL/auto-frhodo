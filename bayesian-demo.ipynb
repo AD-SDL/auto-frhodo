{
 "cells": [
  {
   "cell_type": "markdown",
   "id": "29e926cd-4b37-4b72-a7d3-7f10e85c6e56",
   "metadata": {},
   "source": [
    "# Compute Confidence Intervals\n",
    "Using Bayesian parameter estimation to get confidence intervals for a reaction parameter"
   ]
  },
  {
   "cell_type": "code",
   "execution_count": 1,
   "id": "03d20873-24fe-47ab-8253-c02edb74139a",
   "metadata": {},
   "outputs": [],
   "source": [
    "%matplotlib inline\n",
    "from matplotlib import pyplot as plt\n",
    "from concurrent.futures import ThreadPoolExecutor\n",
    "from frhodo.api.optimize import BayesianObjectiveFunction\n",
    "from frhodo.api.interface import compute_kinetic_coefficients, set_coefficients\n",
    "from frhodo.api.driver import FrhodoDriver\n",
    "from scipy import stats as ss\n",
    "from pathlib import Path\n",
    "from tqdm import tqdm\n",
    "import numpy as np\n",
    "import kombine"
   ]
  },
  {
   "cell_type": "markdown",
   "id": "02a5f633-bd5c-4611-8f01-66f9333c8574",
   "metadata": {},
   "source": [
    "Configuration"
   ]
  },
  {
   "cell_type": "code",
   "execution_count": 2,
   "id": "85f34652-7a1f-4f11-b917-d01adf86e5b3",
   "metadata": {
    "tags": []
   },
   "outputs": [],
   "source": [
    "data_path = Path('sdl-examples/diacetyl/')\n",
    "key_coefficients = [\n",
    "    (30, 0, 'temperature_exponent')\n",
    "]\n",
    "pool_size = 12"
   ]
  },
  {
   "cell_type": "markdown",
   "id": "c3dc1e10-13b8-483a-a046-d1b485a3691c",
   "metadata": {},
   "source": [
    "## Create the Driver\n",
    "Access to the underlying system so we can get parameter values and such"
   ]
  },
  {
   "cell_type": "code",
   "execution_count": 3,
   "id": "0198d720-26d8-4060-9dc5-92895245a244",
   "metadata": {
    "tags": []
   },
   "outputs": [
    {
     "name": "stderr",
     "output_type": "stream",
     "text": [
      "This plugin does not support propagateSizeHints()\n",
      "This plugin does not support propagateSizeHints()\n"
     ]
    }
   ],
   "source": [
    "driver = FrhodoDriver.create_driver()  # Makes it with no display\n",
    "driver.load_files(\n",
    "    data_path / 'experiment' / '2%-C4H6O2-in-98%-Kr-Oct-2016',\n",
    "    data_path / 'mechanism', \n",
    "    data_path / 'simulation',\n",
    "    aliases={\n",
    "        'C4H6O2': 'CH3COCOCH3',\n",
    "        'Krypton': 'Kr',\n",
    "        '2,3-butanedione': 'CH3COCOCH3'\n",
    "    }\n",
    ")"
   ]
  },
  {
   "cell_type": "markdown",
   "id": "13f6e327-6e50-4900-b1b0-8de572b89e2e",
   "metadata": {},
   "source": [
    "Print out the starting values for our initial coefficients"
   ]
  },
  {
   "cell_type": "code",
   "execution_count": 4,
   "id": "920a08d0-e2f8-495f-9501-2eb829115700",
   "metadata": {},
   "outputs": [
    {
     "data": {
      "text/plain": [
       "[4.0]"
      ]
     },
     "execution_count": 4,
     "metadata": {},
     "output_type": "execute_result"
    }
   ],
   "source": [
    "initial_values = driver.get_coefficients(key_coefficients)\n",
    "initial_values"
   ]
  },
  {
   "cell_type": "markdown",
   "id": "962ae828-cb9e-4761-9977-2d6d7466e6d3",
   "metadata": {},
   "source": [
    "## Define the objective function\n",
    "We identified a key set of parameters to alter [in a previous notebook](./assess-sensitivities.ipynb).\n",
    "Let's try to optimize a few of them\n",
    "\n",
    "Our first step is to define the optimization function and we'll use a function that computes the posterior log-probability of a observing data"
   ]
  },
  {
   "cell_type": "markdown",
   "id": "d3ab5c10-e00e-40a6-bbfe-de2aed68795b",
   "metadata": {},
   "source": [
    "A first component of such a function is the probability distribution you would expect for the coefficients (which include also a data uncertainty)."
   ]
  },
  {
   "cell_type": "markdown",
   "id": "e34410a9-a7de-4bed-96e6-850da3c28bf8",
   "metadata": {},
   "source": [
    "**TODO**: Target the A factor for rxn #1"
   ]
  },
  {
   "cell_type": "code",
   "execution_count": 5,
   "id": "57d1ddbd-1e59-44df-9240-924957a6937f",
   "metadata": {},
   "outputs": [],
   "source": [
    "priors = [\n",
    "    ss.uniform(loc=1e-6, scale=1e-4 - 1e-6),  # Data uncertainty: We expect anywhere between 1e-6 and 1e-4 with equal likelihood\n",
    "    ss.uniform(loc=3.0, scale=2.0)  # Let's say the T exponent could be anywhere between 3 and 5 <--- This is where quantum chem could fit in\n",
    "]\n",
    "assert len(priors) == len(key_coefficients) + 1"
   ]
  },
  {
   "cell_type": "markdown",
   "id": "2a5bb241-d59f-479a-bb93-7a6cecc7d5ec",
   "metadata": {},
   "source": [
    "We then combine that to make a function"
   ]
  },
  {
   "cell_type": "code",
   "execution_count": 6,
   "id": "a54fadd9-d290-4558-be3c-6a0b00192007",
   "metadata": {},
   "outputs": [],
   "source": [
    "opt = BayesianObjectiveFunction(\n",
    "    data_path / 'experiment' / '2%-C4H6O2-in-98%-Kr-Oct-2016',\n",
    "    data_path / 'mechanism', \n",
    "    parameters=key_coefficients,\n",
    "    priors=priors,\n",
    "    aliases={\n",
    "        'C4H6O2': 'CH3COCOCH3',\n",
    "        'Krypton': 'Kr',\n",
    "        '2,3-butanedione': 'CH3COCOCH3'\n",
    "    },\n",
    "    num_workers=pool_size,\n",
    ")\n",
    "opt.load_experiments(driver)"
   ]
  },
  {
   "cell_type": "markdown",
   "id": "9ebcd485-315a-4f57-a229-74e63f1df4d7",
   "metadata": {},
   "source": [
    "Run an example guess using a data uncertainty of `1e-5`"
   ]
  },
  {
   "cell_type": "code",
   "execution_count": 7,
   "id": "f6c16bf4-b267-4ef6-b132-68c37ec82b5c",
   "metadata": {},
   "outputs": [
    {
     "data": {
      "text/plain": [
       "[1e-05, 4.0]"
      ]
     },
     "execution_count": 7,
     "metadata": {},
     "output_type": "execute_result"
    }
   ],
   "source": [
    "x0 = [1e-5] + initial_values  # Input to function is the uncertainty + any new coefficients\n",
    "x0"
   ]
  },
  {
   "cell_type": "code",
   "execution_count": 8,
   "id": "685fa99f-5f70-4a1e-97b6-6b052e8188e0",
   "metadata": {},
   "outputs": [
    {
     "name": "stdout",
     "output_type": "stream",
     "text": [
      "CPU times: user 12.9 ms, sys: 33.2 ms, total: 46 ms\n",
      "Wall time: 323 ms\n"
     ]
    },
    {
     "data": {
      "text/plain": [
       "36170.435664207005"
      ]
     },
     "execution_count": 8,
     "metadata": {},
     "output_type": "execute_result"
    },
    {
     "name": "stderr",
     "output_type": "stream",
     "text": [
      "/home/lward/miniconda3/envs/autofrhodo/lib/python3.9/site-packages/scipy/integrate/_ivp/bdf.py:403: RuntimeWarning: invalid value encountered in subtract\n",
      "  D[order + 2] = d - D[order + 1]\n",
      "/home/lward/miniconda3/envs/autofrhodo/lib/python3.9/site-packages/scipy/integrate/_ivp/bdf.py:403: RuntimeWarning: invalid value encountered in subtract\n",
      "  D[order + 2] = d - D[order + 1]\n",
      "/home/lward/miniconda3/envs/autofrhodo/lib/python3.9/site-packages/scipy/integrate/_ivp/bdf.py:403: RuntimeWarning: invalid value encountered in subtract\n",
      "  D[order + 2] = d - D[order + 1]\n",
      "/home/lward/miniconda3/envs/autofrhodo/lib/python3.9/site-packages/scipy/integrate/_ivp/bdf.py:403: RuntimeWarning: invalid value encountered in subtract\n",
      "  D[order + 2] = d - D[order + 1]\n",
      "/home/lward/miniconda3/envs/autofrhodo/lib/python3.9/site-packages/scipy/integrate/_ivp/bdf.py:403: RuntimeWarning: invalid value encountered in subtract\n",
      "  D[order + 2] = d - D[order + 1]\n",
      "/home/lward/miniconda3/envs/autofrhodo/lib/python3.9/site-packages/scipy/integrate/_ivp/bdf.py:403: RuntimeWarning: invalid value encountered in subtract\n",
      "  D[order + 2] = d - D[order + 1]\n",
      "/home/lward/miniconda3/envs/autofrhodo/lib/python3.9/site-packages/scipy/integrate/_ivp/bdf.py:403: RuntimeWarning: invalid value encountered in subtract\n",
      "  D[order + 2] = d - D[order + 1]\n",
      "/home/lward/miniconda3/envs/autofrhodo/lib/python3.9/site-packages/scipy/integrate/_ivp/bdf.py:403: RuntimeWarning: invalid value encountered in subtract\n",
      "  D[order + 2] = d - D[order + 1]\n",
      "/home/lward/miniconda3/envs/autofrhodo/lib/python3.9/site-packages/scipy/integrate/_ivp/bdf.py:403: RuntimeWarning: invalid value encountered in subtract\n",
      "  D[order + 2] = d - D[order + 1]\n",
      "/home/lward/miniconda3/envs/autofrhodo/lib/python3.9/site-packages/scipy/integrate/_ivp/bdf.py:403: RuntimeWarning: invalid value encountered in subtract\n",
      "  D[order + 2] = d - D[order + 1]\n",
      "/home/lward/miniconda3/envs/autofrhodo/lib/python3.9/site-packages/scipy/integrate/_ivp/bdf.py:403: RuntimeWarning: invalid value encountered in subtract\n",
      "  D[order + 2] = d - D[order + 1]\n",
      "/home/lward/miniconda3/envs/autofrhodo/lib/python3.9/site-packages/scipy/integrate/_ivp/bdf.py:403: RuntimeWarning: invalid value encountered in subtract\n",
      "  D[order + 2] = d - D[order + 1]\n"
     ]
    }
   ],
   "source": [
    "%%time\n",
    "opt(x0)"
   ]
  },
  {
   "cell_type": "markdown",
   "id": "49150d14-9c78-4a48-8c05-6f7b69ef4f8f",
   "metadata": {},
   "source": [
    "## Running Monte Carlo Sampling\n",
    "Short version: We're going to create a tool that generates a reasonable distribution of parameters given those expected values and the experimental data we've collected so far. I'll defer you to [my class materials](https://github.com/WardLT/applied-ai-for-materials/tree/main/bayesian-statistics) to get the full mathematical details"
   ]
  },
  {
   "cell_type": "code",
   "execution_count": 9,
   "id": "f632d916-95a7-40b2-b286-adaea1778ee7",
   "metadata": {},
   "outputs": [],
   "source": [
    "n_walkers = 128  # Number of samples to start with\n",
    "p0 = np.vstack([  # Combines samples from each prior to form one array\n",
    "    p.rvs(size=(n_walkers,)) for p in priors  # Generate random samples from each prior\n",
    "]).T"
   ]
  },
  {
   "cell_type": "markdown",
   "id": "f6699174-ff02-47c5-9d36-9c56a96ad474",
   "metadata": {},
   "source": [
    "`p0` contains a distribution of parameters based on our initial understanding"
   ]
  },
  {
   "cell_type": "markdown",
   "id": "35cbdaed-d2e8-44a3-a90d-83ada193dc8c",
   "metadata": {},
   "source": [
    "Our next step is to train that generator"
   ]
  },
  {
   "cell_type": "code",
   "execution_count": 10,
   "id": "dd8110a6-acc2-4295-a62c-237af01a6280",
   "metadata": {},
   "outputs": [
    {
     "name": "stdout",
     "output_type": "stream",
     "text": [
      "CPU times: user 3min 32s, sys: 7.97 s, total: 3min 40s\n",
      "Wall time: 11min 47s\n"
     ]
    }
   ],
   "source": [
    "%%time\n",
    "# ThreadPool is OK as the largest amount of work, running simulators, is done in subprocesses\n",
    "sampler = kombine.Sampler(n_walkers, p0.shape[1], opt, pool=ThreadPoolExecutor(pool_size))\n",
    "burnin_data = sampler.burnin(p0)"
   ]
  },
  {
   "cell_type": "markdown",
   "id": "3727f9fb-cd11-43eb-b8ef-29e15a3aaaf6",
   "metadata": {},
   "source": [
    "It completes when the acceptance probability fo the sampler remains constant"
   ]
  },
  {
   "cell_type": "code",
   "execution_count": 11,
   "id": "60f2d00f-6462-463b-8452-d118228de937",
   "metadata": {},
   "outputs": [
    {
     "data": {
      "text/plain": [
       "Text(0, 0.5, 'P(Accept)')"
      ]
     },
     "execution_count": 11,
     "metadata": {},
     "output_type": "execute_result"
    },
    {
     "data": {
      "image/png": "[encoded data removed]",
      "text/plain": [
       "<Figure size 350x250 with 1 Axes>"
      ]
     },
     "metadata": {},
     "output_type": "display_data"
    }
   ],
   "source": [
    "fig, ax = plt.subplots(figsize=(3.5, 2.5))\n",
    "\n",
    "ax.plot(sampler.acceptance_fraction)\n",
    "\n",
    "ax.set_xlabel('Step')\n",
    "ax.set_ylabel('P(Accept)')"
   ]
  },
  {
   "cell_type": "markdown",
   "id": "a7f16d41-770b-4736-b261-4670d20d0b94",
   "metadata": {},
   "source": [
    "Sample the posterior"
   ]
  },
  {
   "cell_type": "code",
   "execution_count": 12,
   "id": "fc3a0b19-9d0d-41fa-ad86-2a1641ca6a48",
   "metadata": {},
   "outputs": [],
   "source": [
    "outputs = sampler.run_mcmc(2)"
   ]
  },
  {
   "cell_type": "code",
   "execution_count": 13,
   "id": "f1f3750a-ed4d-418b-827f-cd8c8cfcfacc",
   "metadata": {},
   "outputs": [
    {
     "name": "stdout",
     "output_type": "stream",
     "text": [
      "Retrieved 2553 samples from the posterior\n"
     ]
    }
   ],
   "source": [
    "samples = sampler.get_samples()  # Gets only the samples after burn-in\n",
    "print(f'Retrieved {len(samples)} samples from the posterior')"
   ]
  },
  {
   "cell_type": "markdown",
   "id": "919b354b-3cda-48fc-86fb-34e5201e3845",
   "metadata": {},
   "source": [
    "Plot the posterior distribution for the parameters"
   ]
  },
  {
   "cell_type": "code",
   "execution_count": 14,
   "id": "fbf0827a-7099-46b0-b113-bc9b72b790f3",
   "metadata": {},
   "outputs": [
    {
     "data": {
      "text/plain": [
       "Text(0.5, 0, 'Temperature parameter')"
      ]
     },
     "execution_count": 14,
     "metadata": {},
     "output_type": "execute_result"
    },
    {
     "data": {
      "image/png": "[encoded data removed]",
      "text/plain": [
       "<Figure size 350x125 with 1 Axes>"
      ]
     },
     "metadata": {},
     "output_type": "display_data"
    }
   ],
   "source": [
    "fig, ax = plt.subplots(figsize=(3.5, 1.25))\n",
    "\n",
    "ax.hist(samples[:, 1], bins=128)\n",
    "\n",
    "ax.set_xlabel('Temperature parameter')"
   ]
  },
  {
   "cell_type": "markdown",
   "id": "dd436a64-e239-4cdd-b90c-f18f42b98b37",
   "metadata": {},
   "source": [
    "We can see that the temperature parameter's ideal value is somewhere between 3.8-3.9.\n",
    "\n",
    "Next up: Run the simulations with the sampled posterior"
   ]
  },
  {
   "cell_type": "code",
   "execution_count": 15,
   "id": "575aa534-982d-445c-ae51-7ca3dad6a765",
   "metadata": {},
   "outputs": [
    {
     "name": "stderr",
     "output_type": "stream",
     "text": [
      "100%|███████████████████████████████████████████████████████████████████████████████████████████████████████████████████████████████████████████████████████████████████████| 128/128 [00:35<00:00,  3.59it/s]\n"
     ]
    }
   ],
   "source": [
    "sampled_sims = [opt.run_simulations(x[1:]) for x in tqdm(samples[:128])]"
   ]
  },
  {
   "cell_type": "markdown",
   "id": "2479d861-3750-480e-a1bb-716e0b7d4a85",
   "metadata": {},
   "source": [
    "Plot the confidence intervals for a single run"
   ]
  },
  {
   "cell_type": "code",
   "execution_count": 16,
   "id": "7a795674-cd5c-4ee9-8cdb-9dccd055a3de",
   "metadata": {},
   "outputs": [],
   "source": [
    "single_sim = np.vstack([s[5] for s in sampled_sims])"
   ]
  },
  {
   "cell_type": "code",
   "execution_count": 17,
   "id": "2adf5d8e-776f-4f43-873a-b60616b0a036",
   "metadata": {},
   "outputs": [],
   "source": [
    "experiment = opt.observations[5]"
   ]
  },
  {
   "cell_type": "code",
   "execution_count": 18,
   "id": "7f4d90d8-e7a7-41db-9846-b807396dd257",
   "metadata": {},
   "outputs": [
    {
     "data": {
      "text/plain": [
       "Text(0, 0.5, 'Observable')"
      ]
     },
     "execution_count": 18,
     "metadata": {},
     "output_type": "execute_result"
    },
    {
     "data": {
      "image/png": "[encoded data removed]",
      "text/plain": [
       "<Figure size 350x250 with 1 Axes>"
      ]
     },
     "metadata": {},
     "output_type": "display_data"
    }
   ],
   "source": [
    "fig, ax = plt.subplots(figsize=(3.5, 2.5))\n",
    "\n",
    "# Plot between the 2.5th and 97.5th percentiles\n",
    "ax.fill_between(\n",
    "    experiment[:, 0], np.percentile(single_sim, 2.5, axis=0), np.percentile(single_sim, 97.5, axis=0),\n",
    "    alpha=0.5\n",
    ")\n",
    "\n",
    "# Plot the mean\n",
    "ax.plot(experiment[:, 0], np.mean(single_sim, axis=0))\n",
    "ax.plot(experiment[:, 0], experiment[:, 1], 'k--', lw=1)\n",
    "\n",
    "ax.set_yscale('symlog', linthresh=1e-5)  # TODO (wardlt): Fix this\n",
    "\n",
    "ax.set_xlabel('Time (s)')\n",
    "ax.set_ylabel('Observable')"
   ]
  },
  {
   "cell_type": "markdown",
   "id": "758ef355-ef64-47b6-aa6f-9b19fb916f45",
   "metadata": {},
   "source": [
    "## Find the reaction conditions where the uncertainty is the highest\n",
    "Let's look at reaction #30 and see how closely we know it for different reaction conditions"
   ]
  },
  {
   "cell_type": "code",
   "execution_count": 19,
   "id": "fb6489f2-f899-4617-a706-35d827ec9ef8",
   "metadata": {},
   "outputs": [
    {
     "name": "stdout",
     "output_type": "stream",
     "text": [
      "Starting conditions: T - 1513.67 K, P - 1.6e+04 torr, X - {'Kr': 0.98, 'CH3COCOCH3': 0.02}\n"
     ]
    }
   ],
   "source": [
    "tpx = opt.rxn_conditions[5]\n",
    "print(f'Starting conditions: T - {tpx[0]:.2f} K, P - {tpx[1]:.1e} torr, X - {tpx[2]}')"
   ]
  },
  {
   "cell_type": "markdown",
   "id": "fca1ec9b-6c93-4885-96a4-4174e7e33b22",
   "metadata": {},
   "source": [
    "See what our uncertainty in $k$ is for this condition"
   ]
  },
  {
   "cell_type": "code",
   "execution_count": 20,
   "id": "2818634a-20f1-417d-920c-0f87e0016290",
   "metadata": {},
   "outputs": [
    {
     "name": "stderr",
     "output_type": "stream",
     "text": [
      "100%|███████████████████████████████████████████████████████████████████████████████████████████████████████████████████████████████████████████████████████████████████| 2553/2553 [00:01<00:00, 2410.19it/s]\n"
     ]
    }
   ],
   "source": [
    "k_samples = []\n",
    "for params in tqdm(samples):\n",
    "    set_coefficients(opt.mech, dict(zip(key_coefficients, params[1:])))\n",
    "    k_samples.append(compute_kinetic_coefficients(opt.mech, tpx)[30])    "
   ]
  },
  {
   "cell_type": "code",
   "execution_count": 21,
   "id": "c5d730f9-ee5a-45cc-88d6-3dfe0c95565c",
   "metadata": {},
   "outputs": [
    {
     "data": {
      "image/png": "[encoded data removed]",
      "text/plain": [
       "<Figure size 350x200 with 1 Axes>"
      ]
     },
     "metadata": {},
     "output_type": "display_data"
    }
   ],
   "source": [
    "fig, ax = plt.subplots(figsize=(3.5, 2.))\n",
    "\n",
    "#bins = np.logspace(8, 9, 32)\n",
    "ax.hist(k_samples, bins=64)\n",
    "\n",
    "ax.set_xscale('log')\n",
    "ax.set_xlabel('$k$')\n",
    "\n",
    "fig.tight_layout()"
   ]
  },
  {
   "cell_type": "code",
   "execution_count": 22,
   "id": "3e693eb4-a0a5-44ff-8066-1bc51a71add8",
   "metadata": {},
   "outputs": [
    {
     "name": "stdout",
     "output_type": "stream",
     "text": [
      "The kinetic coefficient is 3.82e+08 +/ 8.9e+07\n"
     ]
    }
   ],
   "source": [
    "print(f'The kinetic coefficient is {np.mean(k_samples):.2e} +/ {np.std(k_samples):.1e}')"
   ]
  },
  {
   "cell_type": "markdown",
   "id": "f87b695e-8d62-403c-ad40-5efbb592a80d",
   "metadata": {},
   "source": [
    "It is pretty well-defined under thes attention\n",
    "\n",
    "Let's see how well it does at other temperatures and pressures"
   ]
  },
  {
   "cell_type": "code",
   "execution_count": 23,
   "id": "07b424fa-4fdf-42cc-9c55-fd64e746a265",
   "metadata": {},
   "outputs": [],
   "source": [
    "tt, pp = np.meshgrid(\n",
    "    np.linspace(1200, 1800, 16),\n",
    "    np.linspace(10000, 20000, 16)\n",
    ")"
   ]
  },
  {
   "cell_type": "code",
   "execution_count": 24,
   "id": "26ec0d61-b19c-4297-842f-b4828153cb22",
   "metadata": {},
   "outputs": [
    {
     "name": "stderr",
     "output_type": "stream",
     "text": [
      "100%|███████████████████████████████████████████████████████████████████████████████████████████████████████████████████████████████████████████████████████████████████████| 256/256 [04:35<00:00,  1.08s/it]\n"
     ]
    }
   ],
   "source": [
    "kk_std = []\n",
    "for t, p in tqdm(zip(tt.flatten(), pp.flatten()), total=np.size(tt)):\n",
    "    tpx = (t, p, tpx[2])\n",
    "    k_samples = []\n",
    "    for params in samples:\n",
    "        set_coefficients(opt.mech, dict(zip(key_coefficients, params[1:])))\n",
    "        k_samples.append(compute_kinetic_coefficients(opt.mech, tpx)[30])\n",
    "    kk_std.append(np.std(k_samples))"
   ]
  },
  {
   "cell_type": "code",
   "execution_count": 25,
   "id": "14b5ed3a-a38b-4d6b-b5f2-5ef65fc17701",
   "metadata": {},
   "outputs": [
    {
     "data": {
      "image/png": "[encoded data removed]",
      "text/plain": [
       "<Figure size 350x250 with 2 Axes>"
      ]
     },
     "metadata": {},
     "output_type": "display_data"
    }
   ],
   "source": [
    "fig, ax = plt.subplots(figsize=(3.5, 2.5))\n",
    "\n",
    "kk_std = np.reshape(kk_std, tt.shape)\n",
    "\n",
    "cb_info = ax.contourf(tt, pp, kk_std)\n",
    "\n",
    "fig.colorbar(cb_info)\n",
    "\n",
    "ax.set_title('Uncertainty in $k$')\n",
    "ax.set_xlabel('Temperature')\n",
    "ax.set_ylabel('Pressure')\n",
    "\n",
    "fig.tight_layout()"
   ]
  },
  {
   "cell_type": "markdown",
   "id": "c9e0ea11-df06-4810-a37e-e1afae36b988",
   "metadata": {},
   "source": [
    "We can see that experiments at larger temperatures could help reduce uncertainty the most"
   ]
  },
  {
   "cell_type": "code",
   "execution_count": null,
   "id": "e331daf5-e35a-48d7-99e9-cf0a88b2b85f",
   "metadata": {},
   "outputs": [],
   "source": []
  }
 ],
 "metadata": {
  "kernelspec": {
   "display_name": "Python 3 (ipykernel)",
   "language": "python",
   "name": "python3"
  },
  "language_info": {
   "codemirror_mode": {
    "name": "ipython",
    "version": 3
   },
   "file_extension": ".py",
   "mimetype": "text/x-python",
   "name": "python",
   "nbconvert_exporter": "python",
   "pygments_lexer": "ipython3",
   "version": "3.9.13"
  }
 },
 "nbformat": 4,
 "nbformat_minor": 5
}
